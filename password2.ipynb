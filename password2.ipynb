{
 "cells": [
  {
   "cell_type": "code",
   "execution_count": null,
   "metadata": {},
   "outputs": [],
   "source": [
    "import string\n",
    "import random\n",
    "\n",
    "length = int(input(\"Enter the total length of the password: \")) \n",
    "lower_len = int(input(\"Enter the number of lowercase characters: \"))\n",
    "upper_len = int(input(\"Enter the number of uppercase characters: \"))\n",
    "digit_len = int(input(\"Enter the number of digits: \"))\n",
    "symbol_len = int(input(\"Enter the number of symbols: \"))\n",
    "\n",
    "pwd_len = lower_len + upper_len + digit_len + symbol_len\n",
    "\n",
    "\n",
    "if pwd_len != length:\n",
    "    print(\"The sum of character lengths does not match the total length.\")\n",
    "else:\n",
    "    lower = string.ascii_lowercase\n",
    "    upper = string.ascii_uppercase\n",
    "    digits = string.digits\n",
    "    symbols = string.punctuation  \n",
    "\n",
    "    password = (\n",
    "        random.choices(lower, k=lower_len) +\n",
    "        random.choices(upper, k=upper_len) +\n",
    "        random.choices(digits, k=digit_len) +\n",
    "        random.choices(symbols, k=symbol_len)\n",
    "    )\n",
    "\n",
    "    \n",
    "    random.shuffle(password)\n",
    "\n",
    "   \n",
    "    password_str = ''.join(password)\n",
    "\n",
    "    print(\"Generated Password:\", password_str)\n"
   ]
  },
  {
   "cell_type": "markdown",
   "metadata": {},
   "source": [
    "# "
   ]
  }
 ],
 "metadata": {
  "kernelspec": {
   "display_name": "Python 3",
   "language": "python",
   "name": "python3"
  },
  "language_info": {
   "codemirror_mode": {
    "name": "ipython",
    "version": 3
   },
   "file_extension": ".py",
   "mimetype": "text/x-python",
   "name": "python",
   "nbconvert_exporter": "python",
   "pygments_lexer": "ipython3",
   "version": "3.8.10"
  }
 },
 "nbformat": 4,
 "nbformat_minor": 4
}
